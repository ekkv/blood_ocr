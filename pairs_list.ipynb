{
 "cells": [
  {
   "cell_type": "code",
   "execution_count": null,
   "id": "6b70f6f0",
   "metadata": {},
   "outputs": [],
   "source": [
    "import os\n",
    "import re\n",
    "\n",
    "rootdir = \"./datasets/405\"\n",
    "regex_find = re.compile('(.*csv$)|(.*jpg$)')\n",
    "jpg_list = []\n",
    "csv_list = []\n",
    "\n",
    "for root, dirs, files in os.walk(rootdir):\n",
    "    for file in files:\n",
    "        if regex.match(file):\n",
    "            temp = os.path.splitext(file)\n",
    "            if temp[1] == '.jpg':\n",
    "                name = temp[0] + temp[1]\n",
    "                clean_name = temp[0].strip() + temp[1]\n",
    "                if name != clean_name:\n",
    "                    os.rename(rootdir+'/'+name, rootdir+'/'+clean_name)\n",
    "                jpg_list.append(temp[0])\n",
    "            else: csv_list.append(temp[0])\n",
    "\n",
    "for x in jpg_list:\n",
    "    if x not in csv_list:\n",
    "        print(f'Отсутствует csv для {x}.jpg')\n",
    "\n",
    "for x in csv_list:\n",
    "    if x not in jpg_list:\n",
    "        print(f'Отсутствует jpg для {x}.csv')\n",
    "\n",
    "pairs_list = list(set(jpg_list) & set(csv_list))"
   ]
  }
 ],
 "metadata": {
  "kernelspec": {
   "display_name": "Python 3 (ipykernel)",
   "language": "python",
   "name": "python3"
  },
  "language_info": {
   "codemirror_mode": {
    "name": "ipython",
    "version": 3
   },
   "file_extension": ".py",
   "mimetype": "text/x-python",
   "name": "python",
   "nbconvert_exporter": "python",
   "pygments_lexer": "ipython3",
   "version": "3.10.9"
  }
 },
 "nbformat": 4,
 "nbformat_minor": 5
}
